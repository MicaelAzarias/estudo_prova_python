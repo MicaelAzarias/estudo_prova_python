{
 "cells": [
  {
   "cell_type": "code",
   "execution_count": 1,
   "metadata": {},
   "outputs": [
    {
     "name": "stdout",
     "output_type": "stream",
     "text": [
      "Collecting pandas\n",
      "  Downloading pandas-2.2.1-cp311-cp311-win_amd64.whl (11.6 MB)\n",
      "                                              0.0/11.6 MB ? eta -:--:--\n",
      "     -                                        0.5/11.6 MB 10.5 MB/s eta 0:00:02\n",
      "     --                                       0.8/11.6 MB 9.6 MB/s eta 0:00:02\n",
      "     ---                                      1.0/11.6 MB 7.1 MB/s eta 0:00:02\n",
      "     ----                                     1.3/11.6 MB 7.4 MB/s eta 0:00:02\n",
      "     -----                                    1.6/11.6 MB 7.5 MB/s eta 0:00:02\n",
      "     ------                                   1.8/11.6 MB 7.2 MB/s eta 0:00:02\n",
      "     ------                                   1.8/11.6 MB 7.2 MB/s eta 0:00:02\n",
      "     ------                                   1.8/11.6 MB 7.2 MB/s eta 0:00:02\n",
      "     ------                                   1.8/11.6 MB 7.2 MB/s eta 0:00:02\n",
      "     ------                                   1.8/11.6 MB 7.2 MB/s eta 0:00:02\n",
      "     ------                                   1.8/11.6 MB 7.2 MB/s eta 0:00:02\n",
      "     ------                                   1.8/11.6 MB 7.2 MB/s eta 0:00:02\n",
      "     ------                                   1.8/11.6 MB 7.2 MB/s eta 0:00:02\n",
      "     ------                                   1.8/11.6 MB 7.2 MB/s eta 0:00:02\n",
      "     ------                                   1.8/11.6 MB 7.2 MB/s eta 0:00:02\n",
      "     ------                                   1.8/11.6 MB 7.2 MB/s eta 0:00:02\n",
      "     ------                                   1.8/11.6 MB 7.2 MB/s eta 0:00:02\n",
      "     ------                                   1.8/11.6 MB 7.2 MB/s eta 0:00:02\n",
      "     ------                                   1.8/11.6 MB 7.2 MB/s eta 0:00:02\n",
      "     ------                                   1.8/11.6 MB 7.2 MB/s eta 0:00:02\n",
      "     ------                                   1.8/11.6 MB 7.2 MB/s eta 0:00:02\n",
      "     -------                                  2.1/11.6 MB 2.0 MB/s eta 0:00:05\n",
      "     ---------                                2.7/11.6 MB 2.5 MB/s eta 0:00:04\n",
      "     ----------                               3.1/11.6 MB 2.7 MB/s eta 0:00:04\n",
      "     -----------                              3.3/11.6 MB 2.8 MB/s eta 0:00:04\n",
      "     -----------                              3.5/11.6 MB 2.8 MB/s eta 0:00:03\n",
      "     ------------                             3.7/11.6 MB 2.9 MB/s eta 0:00:03\n",
      "     ------------                             3.7/11.6 MB 2.9 MB/s eta 0:00:03\n",
      "     ------------                             3.7/11.6 MB 2.9 MB/s eta 0:00:03\n",
      "     ------------                             3.7/11.6 MB 2.9 MB/s eta 0:00:03\n",
      "     ------------                             3.7/11.6 MB 2.9 MB/s eta 0:00:03\n",
      "     ------------                             3.7/11.6 MB 2.9 MB/s eta 0:00:03\n",
      "     ------------                             3.7/11.6 MB 2.9 MB/s eta 0:00:03\n",
      "     -------------                            3.8/11.6 MB 2.4 MB/s eta 0:00:04\n",
      "     -------------                            4.0/11.6 MB 2.4 MB/s eta 0:00:04\n",
      "     --------------                           4.3/11.6 MB 2.5 MB/s eta 0:00:03\n",
      "     ---------------                          4.6/11.6 MB 2.6 MB/s eta 0:00:03\n",
      "     ----------------                         4.8/11.6 MB 2.7 MB/s eta 0:00:03\n",
      "     -----------------                        4.9/11.6 MB 2.7 MB/s eta 0:00:03\n",
      "     -----------------                        5.1/11.6 MB 2.7 MB/s eta 0:00:03\n",
      "     ------------------                       5.3/11.6 MB 2.8 MB/s eta 0:00:03\n",
      "     ------------------                       5.5/11.6 MB 2.8 MB/s eta 0:00:03\n",
      "     ------------------                       5.5/11.6 MB 2.8 MB/s eta 0:00:03\n",
      "     ------------------                       5.5/11.6 MB 2.8 MB/s eta 0:00:03\n",
      "     ------------------                       5.5/11.6 MB 2.8 MB/s eta 0:00:03\n",
      "     ------------------                       5.5/11.6 MB 2.8 MB/s eta 0:00:03\n",
      "     -------------------                      5.6/11.6 MB 2.6 MB/s eta 0:00:03\n",
      "     -------------------                      5.8/11.6 MB 2.6 MB/s eta 0:00:03\n",
      "     --------------------                     5.9/11.6 MB 2.6 MB/s eta 0:00:03\n",
      "     ---------------------                    6.2/11.6 MB 2.6 MB/s eta 0:00:03\n",
      "     ----------------------                   6.5/11.6 MB 2.7 MB/s eta 0:00:02\n",
      "     -----------------------                  6.7/11.6 MB 2.7 MB/s eta 0:00:02\n",
      "     -----------------------                  6.9/11.6 MB 2.8 MB/s eta 0:00:02\n",
      "     ------------------------                 7.0/11.6 MB 2.8 MB/s eta 0:00:02\n",
      "     ------------------------                 7.2/11.6 MB 2.8 MB/s eta 0:00:02\n",
      "     -------------------------                7.3/11.6 MB 2.8 MB/s eta 0:00:02\n",
      "     -------------------------                7.3/11.6 MB 2.8 MB/s eta 0:00:02\n",
      "     -------------------------                7.3/11.6 MB 2.8 MB/s eta 0:00:02\n",
      "     -------------------------                7.3/11.6 MB 2.8 MB/s eta 0:00:02\n",
      "     -------------------------                7.3/11.6 MB 2.8 MB/s eta 0:00:02\n",
      "     -------------------------                7.4/11.6 MB 2.6 MB/s eta 0:00:02\n",
      "     -------------------------                7.4/11.6 MB 2.5 MB/s eta 0:00:02\n",
      "     --------------------------               7.6/11.6 MB 2.6 MB/s eta 0:00:02\n",
      "     --------------------------               7.7/11.6 MB 2.6 MB/s eta 0:00:02\n",
      "     ---------------------------              7.9/11.6 MB 2.6 MB/s eta 0:00:02\n",
      "     ----------------------------             8.2/11.6 MB 2.7 MB/s eta 0:00:02\n",
      "     ----------------------------             8.4/11.6 MB 2.7 MB/s eta 0:00:02\n",
      "     -----------------------------            8.6/11.6 MB 2.7 MB/s eta 0:00:02\n",
      "     ------------------------------           8.8/11.6 MB 2.7 MB/s eta 0:00:02\n",
      "     -------------------------------          9.1/11.6 MB 2.8 MB/s eta 0:00:01\n",
      "     --------------------------------         9.3/11.6 MB 2.8 MB/s eta 0:00:01\n",
      "     --------------------------------         9.5/11.6 MB 2.8 MB/s eta 0:00:01\n",
      "     ---------------------------------        9.7/11.6 MB 2.8 MB/s eta 0:00:01\n",
      "     ---------------------------------        9.8/11.6 MB 2.8 MB/s eta 0:00:01\n",
      "     ----------------------------------       10.0/11.6 MB 2.8 MB/s eta 0:00:01\n",
      "     ----------------------------------       10.1/11.6 MB 2.8 MB/s eta 0:00:01\n",
      "     -----------------------------------      10.3/11.6 MB 2.8 MB/s eta 0:00:01\n",
      "     ------------------------------------     10.5/11.6 MB 2.8 MB/s eta 0:00:01\n",
      "     ------------------------------------     10.5/11.6 MB 2.8 MB/s eta 0:00:01\n",
      "     ------------------------------------     10.5/11.6 MB 2.8 MB/s eta 0:00:01\n",
      "     ------------------------------------     10.5/11.6 MB 2.8 MB/s eta 0:00:01\n",
      "     ------------------------------------     10.5/11.6 MB 2.8 MB/s eta 0:00:01\n",
      "     ------------------------------------     10.5/11.6 MB 2.7 MB/s eta 0:00:01\n",
      "     ------------------------------------     10.6/11.6 MB 2.6 MB/s eta 0:00:01\n",
      "     -------------------------------------    10.9/11.6 MB 2.6 MB/s eta 0:00:01\n",
      "     --------------------------------------   11.2/11.6 MB 2.6 MB/s eta 0:00:01\n",
      "     ---------------------------------------  11.6/11.6 MB 2.6 MB/s eta 0:00:01\n",
      "     ---------------------------------------- 11.6/11.6 MB 2.6 MB/s eta 0:00:00\n",
      "Collecting numpy<2,>=1.23.2 (from pandas)\n",
      "  Downloading numpy-1.26.4-cp311-cp311-win_amd64.whl (15.8 MB)\n",
      "                                              0.0/15.8 MB ? eta -:--:--\n",
      "                                              0.3/15.8 MB 5.9 MB/s eta 0:00:03\n",
      "     -                                        0.4/15.8 MB 4.4 MB/s eta 0:00:04\n",
      "     -                                        0.6/15.8 MB 4.0 MB/s eta 0:00:04\n",
      "     -                                        0.8/15.8 MB 4.0 MB/s eta 0:00:04\n",
      "     --                                       1.0/15.8 MB 4.4 MB/s eta 0:00:04\n",
      "     ---                                      1.3/15.8 MB 4.7 MB/s eta 0:00:04\n",
      "     ---                                      1.5/15.8 MB 4.7 MB/s eta 0:00:04\n",
      "     ----                                     1.7/15.8 MB 4.4 MB/s eta 0:00:04\n",
      "     ----                                     1.9/15.8 MB 4.4 MB/s eta 0:00:04\n",
      "     -----                                    2.1/15.8 MB 4.4 MB/s eta 0:00:04\n",
      "     -----                                    2.2/15.8 MB 4.4 MB/s eta 0:00:04\n",
      "     -----                                    2.2/15.8 MB 4.4 MB/s eta 0:00:04\n",
      "     -----                                    2.2/15.8 MB 4.4 MB/s eta 0:00:04\n",
      "     -----                                    2.2/15.8 MB 4.4 MB/s eta 0:00:04\n",
      "     -----                                    2.2/15.8 MB 4.4 MB/s eta 0:00:04\n",
      "     -----                                    2.2/15.8 MB 4.4 MB/s eta 0:00:04\n",
      "     -----                                    2.2/15.8 MB 2.8 MB/s eta 0:00:05\n",
      "     -----                                    2.2/15.8 MB 2.8 MB/s eta 0:00:05\n",
      "     -----                                    2.2/15.8 MB 2.8 MB/s eta 0:00:05\n",
      "     -----                                    2.3/15.8 MB 2.4 MB/s eta 0:00:06\n",
      "     ------                                   2.4/15.8 MB 2.4 MB/s eta 0:00:06\n",
      "     ------                                   2.6/15.8 MB 2.5 MB/s eta 0:00:06\n",
      "     -------                                  2.9/15.8 MB 2.7 MB/s eta 0:00:05\n",
      "     --------                                 3.2/15.8 MB 2.8 MB/s eta 0:00:05\n",
      "     --------                                 3.5/15.8 MB 3.0 MB/s eta 0:00:05\n",
      "     ---------                                3.7/15.8 MB 3.1 MB/s eta 0:00:04\n",
      "     ---------                                3.9/15.8 MB 3.1 MB/s eta 0:00:04\n",
      "     ----------                               4.1/15.8 MB 3.1 MB/s eta 0:00:04\n",
      "     ----------                               4.3/15.8 MB 3.2 MB/s eta 0:00:04\n",
      "     -----------                              4.6/15.8 MB 3.2 MB/s eta 0:00:04\n",
      "     ------------                             4.9/15.8 MB 3.4 MB/s eta 0:00:04\n",
      "     ------------                             5.1/15.8 MB 3.4 MB/s eta 0:00:04\n",
      "     -------------                            5.3/15.8 MB 3.4 MB/s eta 0:00:04\n",
      "     -------------                            5.5/15.8 MB 3.4 MB/s eta 0:00:03\n",
      "     --------------                           5.7/15.8 MB 3.5 MB/s eta 0:00:03\n",
      "     --------------                           5.7/15.8 MB 3.5 MB/s eta 0:00:03\n",
      "     --------------                           5.7/15.8 MB 3.5 MB/s eta 0:00:03\n",
      "     --------------                           5.7/15.8 MB 3.5 MB/s eta 0:00:03\n",
      "     --------------                           5.7/15.8 MB 3.5 MB/s eta 0:00:03\n",
      "     --------------                           5.7/15.8 MB 3.1 MB/s eta 0:00:04\n",
      "     --------------                           5.7/15.8 MB 3.1 MB/s eta 0:00:04\n",
      "     --------------                           5.8/15.8 MB 3.0 MB/s eta 0:00:04\n",
      "     ---------------                          6.0/15.8 MB 3.0 MB/s eta 0:00:04\n",
      "     ---------------                          6.1/15.8 MB 3.0 MB/s eta 0:00:04\n",
      "     ---------------                          6.3/15.8 MB 3.0 MB/s eta 0:00:04\n",
      "     ----------------                         6.4/15.8 MB 3.0 MB/s eta 0:00:04\n",
      "     ----------------                         6.7/15.8 MB 3.1 MB/s eta 0:00:03\n",
      "     -----------------                        7.0/15.8 MB 3.1 MB/s eta 0:00:03\n",
      "     ------------------                       7.4/15.8 MB 3.2 MB/s eta 0:00:03\n",
      "     -------------------                      7.5/15.8 MB 3.2 MB/s eta 0:00:03\n",
      "     -------------------                      7.5/15.8 MB 3.2 MB/s eta 0:00:03\n",
      "     -------------------                      7.5/15.8 MB 3.1 MB/s eta 0:00:03\n",
      "     -------------------                      7.7/15.8 MB 3.1 MB/s eta 0:00:03\n",
      "     -------------------                      7.9/15.8 MB 3.1 MB/s eta 0:00:03\n",
      "     --------------------                     8.1/15.8 MB 3.1 MB/s eta 0:00:03\n",
      "     ---------------------                    8.3/15.8 MB 3.2 MB/s eta 0:00:03\n",
      "     ---------------------                    8.6/15.8 MB 3.2 MB/s eta 0:00:03\n",
      "     ----------------------                   8.9/15.8 MB 3.3 MB/s eta 0:00:03\n",
      "     -----------------------                  9.3/15.8 MB 3.4 MB/s eta 0:00:02\n",
      "     -----------------------                  9.4/15.8 MB 3.4 MB/s eta 0:00:02\n",
      "     -----------------------                  9.4/15.8 MB 3.4 MB/s eta 0:00:02\n",
      "     -----------------------                  9.4/15.8 MB 3.4 MB/s eta 0:00:02\n",
      "     -----------------------                  9.4/15.8 MB 3.4 MB/s eta 0:00:02\n",
      "     -----------------------                  9.4/15.8 MB 3.4 MB/s eta 0:00:02\n",
      "     -----------------------                  9.4/15.8 MB 3.1 MB/s eta 0:00:03\n",
      "     ------------------------                 9.5/15.8 MB 3.1 MB/s eta 0:00:03\n",
      "     ------------------------                 9.8/15.8 MB 3.1 MB/s eta 0:00:02\n",
      "     -------------------------                10.0/15.8 MB 3.2 MB/s eta 0:00:02\n",
      "     --------------------------               10.4/15.8 MB 3.2 MB/s eta 0:00:02\n",
      "     --------------------------               10.7/15.8 MB 3.2 MB/s eta 0:00:02\n",
      "     ---------------------------              10.9/15.8 MB 3.3 MB/s eta 0:00:02\n",
      "     ---------------------------              11.0/15.8 MB 3.2 MB/s eta 0:00:02\n",
      "     ----------------------------             11.2/15.8 MB 3.2 MB/s eta 0:00:02\n",
      "     ----------------------------             11.2/15.8 MB 3.2 MB/s eta 0:00:02\n",
      "     ----------------------------             11.2/15.8 MB 3.2 MB/s eta 0:00:02\n",
      "     ----------------------------             11.2/15.8 MB 3.2 MB/s eta 0:00:02\n",
      "     ----------------------------             11.2/15.8 MB 3.2 MB/s eta 0:00:02\n",
      "     ----------------------------             11.2/15.8 MB 3.0 MB/s eta 0:00:02\n",
      "     ----------------------------             11.3/15.8 MB 3.0 MB/s eta 0:00:02\n",
      "     -----------------------------            11.5/15.8 MB 3.0 MB/s eta 0:00:02\n",
      "     -----------------------------            11.7/15.8 MB 3.0 MB/s eta 0:00:02\n",
      "     ------------------------------           11.9/15.8 MB 3.0 MB/s eta 0:00:02\n",
      "     ------------------------------           12.1/15.8 MB 3.0 MB/s eta 0:00:02\n",
      "     ------------------------------           12.2/15.8 MB 3.0 MB/s eta 0:00:02\n",
      "     -------------------------------          12.5/15.8 MB 3.4 MB/s eta 0:00:01\n",
      "     --------------------------------         12.7/15.8 MB 3.4 MB/s eta 0:00:01\n",
      "     --------------------------------         12.9/15.8 MB 3.4 MB/s eta 0:00:01\n",
      "     --------------------------------         13.0/15.8 MB 3.4 MB/s eta 0:00:01\n",
      "     ---------------------------------        13.1/15.8 MB 3.4 MB/s eta 0:00:01\n",
      "     ---------------------------------        13.1/15.8 MB 3.3 MB/s eta 0:00:01\n",
      "     ---------------------------------        13.2/15.8 MB 3.3 MB/s eta 0:00:01\n",
      "     ---------------------------------        13.3/15.8 MB 3.2 MB/s eta 0:00:01\n",
      "     ----------------------------------       13.4/15.8 MB 3.2 MB/s eta 0:00:01\n",
      "     ----------------------------------       13.6/15.8 MB 3.2 MB/s eta 0:00:01\n",
      "     ----------------------------------       13.8/15.8 MB 3.2 MB/s eta 0:00:01\n",
      "     -----------------------------------      14.0/15.8 MB 3.1 MB/s eta 0:00:01\n",
      "     ------------------------------------     14.2/15.8 MB 3.2 MB/s eta 0:00:01\n",
      "     ------------------------------------     14.5/15.8 MB 3.2 MB/s eta 0:00:01\n",
      "     -------------------------------------    14.9/15.8 MB 3.2 MB/s eta 0:00:01\n",
      "     -------------------------------------    14.9/15.8 MB 3.2 MB/s eta 0:00:01\n",
      "     -------------------------------------    14.9/15.8 MB 3.2 MB/s eta 0:00:01\n",
      "     -------------------------------------    14.9/15.8 MB 3.2 MB/s eta 0:00:01\n",
      "     -------------------------------------    14.9/15.8 MB 3.2 MB/s eta 0:00:01\n",
      "     -------------------------------------    14.9/15.8 MB 3.2 MB/s eta 0:00:01\n",
      "     -------------------------------------    14.9/15.8 MB 3.2 MB/s eta 0:00:01\n",
      "     --------------------------------------   15.1/15.8 MB 2.9 MB/s eta 0:00:01\n",
      "     --------------------------------------   15.2/15.8 MB 2.9 MB/s eta 0:00:01\n",
      "     --------------------------------------   15.4/15.8 MB 2.9 MB/s eta 0:00:01\n",
      "     ---------------------------------------  15.5/15.8 MB 2.9 MB/s eta 0:00:01\n",
      "     ---------------------------------------  15.6/15.8 MB 2.9 MB/s eta 0:00:01\n",
      "     ---------------------------------------  15.8/15.8 MB 2.9 MB/s eta 0:00:01\n",
      "     ---------------------------------------  15.8/15.8 MB 2.9 MB/s eta 0:00:01\n",
      "     ---------------------------------------- 15.8/15.8 MB 2.8 MB/s eta 0:00:00\n",
      "Requirement already satisfied: python-dateutil>=2.8.2 in c:\\python311\\lib\\site-packages (from pandas) (2.8.2)\n",
      "Collecting pytz>=2020.1 (from pandas)\n",
      "  Downloading pytz-2024.1-py2.py3-none-any.whl (505 kB)\n",
      "                                              0.0/505.5 kB ? eta -:--:--\n",
      "     ---------------                        204.8/505.5 kB 4.1 MB/s eta 0:00:01\n",
      "     ------------------------------------   481.3/505.5 kB 5.0 MB/s eta 0:00:01\n",
      "     -------------------------------------- 505.5/505.5 kB 5.3 MB/s eta 0:00:00\n",
      "Collecting tzdata>=2022.7 (from pandas)\n",
      "  Downloading tzdata-2024.1-py2.py3-none-any.whl (345 kB)\n",
      "                                              0.0/345.4 kB ? eta -:--:--\n",
      "     ---------------                        143.4/345.4 kB 2.9 MB/s eta 0:00:01\n",
      "     ------------------------               225.3/345.4 kB 2.8 MB/s eta 0:00:01\n",
      "     -------------------------------------- 345.4/345.4 kB 2.7 MB/s eta 0:00:00\n",
      "Requirement already satisfied: six>=1.5 in c:\\python311\\lib\\site-packages (from python-dateutil>=2.8.2->pandas) (1.16.0)\n",
      "Installing collected packages: pytz, tzdata, numpy, pandas\n",
      "Successfully installed numpy-1.26.4 pandas-2.2.1 pytz-2024.1 tzdata-2024.1\n",
      "Note: you may need to restart the kernel to use updated packages.\n"
     ]
    },
    {
     "name": "stderr",
     "output_type": "stream",
     "text": [
      "\n",
      "[notice] A new release of pip is available: 23.1.2 -> 24.0\n",
      "[notice] To update, run: python.exe -m pip install --upgrade pip\n"
     ]
    }
   ],
   "source": [
    "pip install pandas\n"
   ]
  },
  {
   "cell_type": "code",
   "execution_count": 2,
   "metadata": {},
   "outputs": [
    {
     "name": "stdout",
     "output_type": "stream",
     "text": [
      "Requirement already satisfied: numpy in c:\\python311\\lib\\site-packages (1.26.4)\n",
      "Note: you may need to restart the kernel to use updated packages.\n"
     ]
    },
    {
     "name": "stderr",
     "output_type": "stream",
     "text": [
      "\n",
      "[notice] A new release of pip is available: 23.1.2 -> 24.0\n",
      "[notice] To update, run: python.exe -m pip install --upgrade pip\n"
     ]
    }
   ],
   "source": [
    "pip install numpy"
   ]
  },
  {
   "cell_type": "code",
   "execution_count": 4,
   "metadata": {},
   "outputs": [],
   "source": [
    "import pandas as pd \n",
    "import numpy as np"
   ]
  },
  {
   "cell_type": "code",
   "execution_count": 7,
   "metadata": {},
   "outputs": [
    {
     "name": "stdout",
     "output_type": "stream",
     "text": [
      "a tupla, com seu quarto elemento modificado é: ('São paulo', 'rio', 'ceara', 'Salvador', 'Amapa', 'Amazonas')\n",
      "a concatenação de tuplas é: ('Rio de Janeiro', 'São apulo', 'São paulo', 'rio', 'ceara', 'Salvador', 'Amapa', 'Amazonas')\n"
     ]
    }
   ],
   "source": [
    "cidades_br = ('São paulo', 'rio', 'ceara', 'Salvador', 'brasilia', 'Amazonas')\n",
    "lista_cidade = list(cidades_br)\n",
    "lista_cidade[4] = 'Amapa'\n",
    "cidades_br = tuple(lista_cidade)\n",
    "cidades_brasil = ('Rio de Janeiro', 'São apulo')\n",
    "\n",
    "concatenar = cidades_brasil + cidades_br\n",
    "\n",
    "print(f'a tupla, com seu quarto elemento modificado é: {cidades_br}')\n",
    "print(f'a concatenação de tuplas é: {concatenar}')"
   ]
  },
  {
   "cell_type": "code",
   "execution_count": 8,
   "metadata": {},
   "outputs": [
    {
     "name": "stdout",
     "output_type": "stream",
     "text": [
      "118\n"
     ]
    }
   ],
   "source": [
    "x = int(input('qual o seu valor de X?'))\n",
    "funcao = 10*2 + 5*x - 2\n",
    "print(funcao)"
   ]
  },
  {
   "cell_type": "code",
   "execution_count": 9,
   "metadata": {},
   "outputs": [
    {
     "name": "stdout",
     "output_type": "stream",
     "text": [
      "118.0\n"
     ]
    }
   ],
   "source": [
    "def calcular_funcao(x):\n",
    "    return 10*2 + 5*x - 2.\n",
    "\n",
    "x = int(input('qual o seu valor de X?'))\n",
    "resultado = calcular_funcao(x)\n",
    "print(resultado)\n"
   ]
  },
  {
   "cell_type": "code",
   "execution_count": 11,
   "metadata": {},
   "outputs": [
    {
     "name": "stdout",
     "output_type": "stream",
     "text": [
      "o valor da equação 10*2 + 5*x - 2 é: 118.0\n",
      "o valor da equação F = m*a é: 40400\n",
      "o resultado da equação y**3 + 10*y**2 - 5*y + 10 é: 11910\n"
     ]
    }
   ],
   "source": [
    "def calculo1(x):\n",
    "    return 10*2 + 5*x - 2.\n",
    "\n",
    "def calculo2(m,a):\n",
    "    return m*a\n",
    "\n",
    "def calculo3(y):\n",
    "    return y**3 + 10*y**2 - 5*y + 10\n",
    "\n",
    "x = int(input('qual o seu valor de X?'))\n",
    "m = int(input('qual o seu valor de M?'))\n",
    "a = int(input('qual o seu valor de F?'))\n",
    "y = int(input('qual o seu valor de Y?'))\n",
    "\n",
    "resultado1 = calculo1(x)\n",
    "print(f'o valor da equação 10*2 + 5*x - 2 é: {resultado1}')\n",
    "\n",
    "resultado2 = calculo2(m,a)\n",
    "print(f'o valor da equação F = m*a é: {resultado2}')\n",
    "\n",
    "resultado3 = calculo3(y)\n",
    "print(f'o resultado da equação y**3 + 10*y**2 - 5*y + 10 é: {resultado3}')\n"
   ]
  },
  {
   "cell_type": "code",
   "execution_count": null,
   "metadata": {},
   "outputs": [],
   "source": [
    "# como fazer em uma função só\n",
    "def equacoes():\n",
    "    x = float(input(\"Digite um valor para x: \"))\n",
    "    equacao1 = 10**2 + 5*x - 2\n",
    " \n",
    "    m = float(input(\"Digite um valor para a massa: \"))\n",
    "    a = float(input(\"Digite um valor para a acelaração: \"))\n",
    "    equacao2 = m * a\n",
    " \n",
    "    y = float(input(\"Digite um valor para y: \"))\n",
    "    equacao3 = y**3 + 10 * y**2 - 5*y + 10\n",
    " \n",
    "    return equacao1, equacao2, equacao3\n",
    " \n",
    "equacao1, equacao2, equacao3 = equacoes()\n",
    "print(f'Equação 1: {equacao1}\\nEquação 2: {equacao2}\\nEquação 3: {equacao3}')\n"
   ]
  },
  {
   "cell_type": "code",
   "execution_count": 12,
   "metadata": {},
   "outputs": [
    {
     "name": "stdout",
     "output_type": "stream",
     "text": [
      "    Nome  Idade     Cidade\n",
      "0   John     25  Nova York\n",
      "1  Alice     30    Londres\n",
      "2    Bob     35      Paris\n"
     ]
    }
   ],
   "source": [
    "# exemplo de dataframe \n",
    "import pandas as pd\n",
    "\n",
    "# Criando um dicionário com dados\n",
    "data = {'Nome': ['John', 'Alice', 'Bob'],\n",
    "        'Idade': [25, 30, 35],\n",
    "        'Cidade': ['Nova York', 'Londres', 'Paris']}\n",
    "\n",
    "# Criando o DataFrame a partir do dicionário\n",
    "df = pd.DataFrame(data)\n",
    "print(df)"
   ]
  },
  {
   "cell_type": "code",
   "execution_count": 14,
   "metadata": {},
   "outputs": [
    {
     "data": {
      "text/html": [
       "<div>\n",
       "<style scoped>\n",
       "    .dataframe tbody tr th:only-of-type {\n",
       "        vertical-align: middle;\n",
       "    }\n",
       "\n",
       "    .dataframe tbody tr th {\n",
       "        vertical-align: top;\n",
       "    }\n",
       "\n",
       "    .dataframe thead th {\n",
       "        text-align: right;\n",
       "    }\n",
       "</style>\n",
       "<table border=\"1\" class=\"dataframe\">\n",
       "  <thead>\n",
       "    <tr style=\"text-align: right;\">\n",
       "      <th></th>\n",
       "      <th>frutas</th>\n",
       "      <th>valor</th>\n",
       "    </tr>\n",
       "  </thead>\n",
       "  <tbody>\n",
       "    <tr>\n",
       "      <th>0</th>\n",
       "      <td>banana</td>\n",
       "      <td>100</td>\n",
       "    </tr>\n",
       "    <tr>\n",
       "      <th>1</th>\n",
       "      <td>maçã</td>\n",
       "      <td>150</td>\n",
       "    </tr>\n",
       "    <tr>\n",
       "      <th>2</th>\n",
       "      <td>pera</td>\n",
       "      <td>120</td>\n",
       "    </tr>\n",
       "    <tr>\n",
       "      <th>3</th>\n",
       "      <td>melancia</td>\n",
       "      <td>40</td>\n",
       "    </tr>\n",
       "    <tr>\n",
       "      <th>4</th>\n",
       "      <td>morango</td>\n",
       "      <td>250</td>\n",
       "    </tr>\n",
       "    <tr>\n",
       "      <th>5</th>\n",
       "      <td>melão</td>\n",
       "      <td>53</td>\n",
       "    </tr>\n",
       "  </tbody>\n",
       "</table>\n",
       "</div>"
      ],
      "text/plain": [
       "     frutas  valor\n",
       "0    banana    100\n",
       "1      maçã    150\n",
       "2      pera    120\n",
       "3  melancia     40\n",
       "4   morango    250\n",
       "5     melão     53"
      ]
     },
     "execution_count": 14,
     "metadata": {},
     "output_type": "execute_result"
    }
   ],
   "source": [
    "data_frame = {'frutas': ['banana', 'maçã', 'pera', 'melancia', 'morango', 'melão'],\n",
    "              'valor': [100, 150, 120, 40, 250, 53]}\n",
    "\n",
    "df = pd.DataFrame(data_frame)\n",
    "\n",
    "df"
   ]
  },
  {
   "cell_type": "code",
   "execution_count": null,
   "metadata": {},
   "outputs": [],
   "source": [
    "import pandas as pd\n",
    " \n",
    "# Criação do dataframe com as vendas das frutas\n",
    "vendas = {\n",
    "    'Fruta': ['banana', 'maçã', 'pera', 'melancia', 'morango', 'melão'],\n",
    "    'Quantidade': [100, 150, 120, 40, 250, 53]\n",
    "}\n",
    " \n",
    "df_vendas = pd.DataFrame(vendas)\n",
    " \n",
    "# Exibindo a fruta que mais vendeu\n",
    "print(f\"A fruta que mais vendeu foi: {df_vendas.loc[df_vendas['Quantidade'].idxmax()]['Fruta']}\")\n",
    " \n",
    "# Exibindo a fruta que menos vendeu\n",
    "print(f\"A fruta que menos vendeu foi: {df_vendas.loc[df_vendas['Quantidade'].idxmin()]['Fruta']}\")\n",
    " \n",
    "# Calculando e exibindo a média das vendas\n",
    "media_vendas = df_vendas['Quantidade'].mean()\n",
    "print(f\"A média das vendas é: {media_vendas}\")\n",
    " \n",
    "# Calculando e exibindo a soma das vendas\n",
    "soma_vendas = df_vendas['Quantidade'].sum()\n",
    "print(f\"A soma das vendas é: {soma_vendas}\")"
   ]
  },
  {
   "cell_type": "code",
   "execution_count": null,
   "metadata": {},
   "outputs": [],
   "source": [
    "media_vendas = vendas_series.mean()\n",
    "media2_vendas = vendas_series.median()\n",
    "minimo_vendas = vendas_series.min()\n",
    "maximo_vendas = vendas_series.max()"
   ]
  },
  {
   "cell_type": "code",
   "execution_count": 15,
   "metadata": {},
   "outputs": [
    {
     "name": "stdout",
     "output_type": "stream",
     "text": [
      "O combustível foi mais barato no mês 3.\n",
      "O combustível foi mais caro no mês 10.\n",
      "A média de preço no ano foi de R$3.66.\n"
     ]
    }
   ],
   "source": [
    "import numpy as np\n",
    "\n",
    "# Preços mensais do combustível\n",
    "precos_combustivel = np.array([3.50, 3.55, 3.48, 3.60, 3.65, 3.70, 3.68, 3.75, 3.80, 3.90])\n",
    "\n",
    "# Mês em que o combustível foi mais barato\n",
    "mes_mais_barato = np.argmin(precos_combustivel) + 1  # Adicionamos 1 para obter o mês correto\n",
    "\n",
    "# Mês em que o combustível foi mais caro\n",
    "mes_mais_caro = np.argmax(precos_combustivel) + 1  # Adicionamos 1 para obter o mês correto\n",
    "\n",
    "# Média de preço no ano\n",
    "media_preco_ano = np.mean(precos_combustivel)\n",
    "\n",
    "print(f\"O combustível foi mais barato no mês {mes_mais_barato}.\")\n",
    "print(f\"O combustível foi mais caro no mês {mes_mais_caro}.\")\n",
    "print(f\"A média de preço no ano foi de R${media_preco_ano:.2f}.\")\n",
    "\n",
    "\n"
   ]
  }
 ],
 "metadata": {
  "kernelspec": {
   "display_name": "Python 3",
   "language": "python",
   "name": "python3"
  },
  "language_info": {
   "codemirror_mode": {
    "name": "ipython",
    "version": 3
   },
   "file_extension": ".py",
   "mimetype": "text/x-python",
   "name": "python",
   "nbconvert_exporter": "python",
   "pygments_lexer": "ipython3",
   "version": "3.11.4"
  },
  "orig_nbformat": 4
 },
 "nbformat": 4,
 "nbformat_minor": 2
}
