{
 "cells": [
  {
   "cell_type": "code",
   "execution_count": 6,
   "metadata": {},
   "outputs": [
    {
     "name": "stdout",
     "output_type": "stream",
     "text": [
      "Requirement already satisfied: pandas in c:\\users\\azazm\\appdata\\local\\programs\\python\\python311\\lib\\site-packages (2.0.3)\n",
      "Requirement already satisfied: python-dateutil>=2.8.2 in c:\\users\\azazm\\appdata\\roaming\\python\\python311\\site-packages (from pandas) (2.8.2)\n",
      "Requirement already satisfied: pytz>=2020.1 in c:\\users\\azazm\\appdata\\local\\programs\\python\\python311\\lib\\site-packages (from pandas) (2023.3)\n",
      "Requirement already satisfied: tzdata>=2022.1 in c:\\users\\azazm\\appdata\\local\\programs\\python\\python311\\lib\\site-packages (from pandas) (2023.3)\n",
      "Requirement already satisfied: numpy>=1.21.0 in c:\\users\\azazm\\appdata\\local\\programs\\python\\python311\\lib\\site-packages (from pandas) (1.25.2)\n",
      "Requirement already satisfied: six>=1.5 in c:\\users\\azazm\\appdata\\roaming\\python\\python311\\site-packages (from python-dateutil>=2.8.2->pandas) (1.16.0)\n",
      "Note: you may need to restart the kernel to use updated packages.\n"
     ]
    },
    {
     "name": "stderr",
     "output_type": "stream",
     "text": [
      "\n",
      "[notice] A new release of pip is available: 23.2.1 -> 24.0\n",
      "[notice] To update, run: python.exe -m pip install --upgrade pip\n"
     ]
    }
   ],
   "source": [
    "pip install pandas"
   ]
  },
  {
   "cell_type": "code",
   "execution_count": 7,
   "metadata": {},
   "outputs": [
    {
     "name": "stdout",
     "output_type": "stream",
     "text": [
      "Requirement already satisfied: numpy in c:\\users\\azazm\\appdata\\local\\programs\\python\\python311\\lib\\site-packages (1.25.2)\n",
      "Note: you may need to restart the kernel to use updated packages.\n"
     ]
    },
    {
     "name": "stderr",
     "output_type": "stream",
     "text": [
      "\n",
      "[notice] A new release of pip is available: 23.2.1 -> 24.0\n",
      "[notice] To update, run: python.exe -m pip install --upgrade pip\n"
     ]
    }
   ],
   "source": [
    "pip install numpy"
   ]
  },
  {
   "cell_type": "code",
   "execution_count": 8,
   "metadata": {},
   "outputs": [],
   "source": [
    "import numpy as np\n",
    "import pandas as pd "
   ]
  },
  {
   "cell_type": "code",
   "execution_count": 9,
   "metadata": {},
   "outputs": [
    {
     "name": "stdout",
     "output_type": "stream",
     "text": [
      "eu vou comer hamburguer\n",
      "eu vou comer suco\n",
      "eu vou comer pizza\n",
      "eu vou comer pudim\n",
      "comi pr caramba!\n"
     ]
    }
   ],
   "source": [
    "lanche = ('hamburguer', 'suco', 'pizza', 'pudim')\n",
    "for comida in lanche: # for= para, comida in = em lanche, para cada comida em lanche (não esquecer os dois pontos)\n",
    "    print(f'eu vou comer {comida}') # ele pega os itens da lista lanche e colocam dentro de comida um por vez e printa na frase\n",
    "print('comi pr caramba!') # quando ele termina de rodar em todos os itens ele vai para o outro print. \n"
   ]
  },
  {
   "cell_type": "code",
   "execution_count": 13,
   "metadata": {},
   "outputs": [
    {
     "name": "stdout",
     "output_type": "stream",
     "text": [
      "hamburguer\n",
      "suco\n",
      "pizza\n",
      "pudim\n",
      "batata frita\n",
      "comi pra caramba!\n"
     ]
    }
   ],
   "source": [
    "lanche = ('hamburguer', 'suco', 'pizza', 'pudim', 'batata frita')\n",
    "for cont in range(0, len(lanche)):\n",
    "    print(lanche[cont])\n",
    "\n",
    "print('comi pra caramba!')"
   ]
  },
  {
   "cell_type": "code",
   "execution_count": 15,
   "metadata": {},
   "outputs": [
    {
     "name": "stdout",
     "output_type": "stream",
     "text": [
      "eu vou comer (0, 'hamburguer')\n",
      "eu vou comer (1, 'suco')\n",
      "eu vou comer (2, 'pizza')\n",
      "eu vou comer (3, 'pudim')\n",
      "eu vou comer (4, 'batata frita')\n",
      "comi pra caramba!\n"
     ]
    }
   ],
   "source": [
    "for comida in enumerate(lanche):\n",
    "    print(f'eu vou comer {comida}')\n",
    "\n",
    "\n",
    "print('comi pra caramba!')"
   ]
  },
  {
   "cell_type": "code",
   "execution_count": 16,
   "metadata": {},
   "outputs": [
    {
     "name": "stdout",
     "output_type": "stream",
     "text": [
      "['batata frita', 'hamburguer', 'pizza', 'pudim', 'suco']\n"
     ]
    }
   ],
   "source": [
    "print(sorted(lanche)) # coloca ela em ordem "
   ]
  },
  {
   "cell_type": "code",
   "execution_count": 19,
   "metadata": {},
   "outputs": [
    {
     "name": "stdout",
     "output_type": "stream",
     "text": [
      "(5, 8, 1, 2, 2, 5, 4)\n",
      "2\n",
      "3\n"
     ]
    }
   ],
   "source": [
    "a = (2,5,4)\n",
    "b = (5,8,1,2)\n",
    "c = b + a\n",
    "print(c)\n",
    "print(c.count(5)) # conta quantas veszes ele aparece dentro da tupla\n",
    "print(c.index(2)) # index mostra a posição do elemento que voce peri=untou dentro do parenteses"
   ]
  },
  {
   "cell_type": "code",
   "execution_count": 23,
   "metadata": {},
   "outputs": [
    {
     "name": "stdout",
     "output_type": "stream",
     "text": [
      "tente novamente. voce digitou o numero vinte\n"
     ]
    }
   ],
   "source": [
    "\n",
    "numero_extenso = ('zero','um','dois','tres','quatro','cinco','seis','sete','oito','nove','dez','onze','dose','trese','quatroze','quinze','dezesseis','dezessete','dezoito','dezenove','vinte')\n",
    "while True:\n",
    "    usuario = int(input('digite um numero entre 0 e 20:'))\n",
    "    if 0 <= usuario <= 20:\n",
    "        break\n",
    "    print('tente novamente. ', end='') #o end serve para ele não pular linha\n",
    "print(f'voce digitou o numero {numero_extenso[usuario]}')"
   ]
  },
  {
   "cell_type": "code",
   "execution_count": null,
   "metadata": {},
   "outputs": [],
   "source": [
    "# AQUI ELE ARMAZENA INPUTS DENTRO DE TUPLAS \n",
    "num = (int(input('digite um numero: ')),\n",
    "    int(input('digite outro numero: ')),\n",
    "    int(input('digite mais um numero: ')),\n",
    "    int(input('digite o ultimo numero: ')))\n",
    "print(f'voce digitou os valores {num}')\n",
    "print(f'o valor 9 apreceu{num.count(9)}')\n",
    "\n",
    "if 3 in num:\n",
    "    print(f'o valor 3 apareceru na {num.index(3)+1} posiçã')\n",
    "else:\n",
    "    print('o valor 3 não foi digitado em nenhuma posição')\n",
    "\n",
    "print(f'os valores pares digitados foram ', end=' ')\n",
    "for n in num:\n",
    "    if n % 2 == 0:\n",
    "        print(n, end=' ')"
   ]
  }
 ],
 "metadata": {
  "kernelspec": {
   "display_name": "Python 3",
   "language": "python",
   "name": "python3"
  },
  "language_info": {
   "codemirror_mode": {
    "name": "ipython",
    "version": 3
   },
   "file_extension": ".py",
   "mimetype": "text/x-python",
   "name": "python",
   "nbconvert_exporter": "python",
   "pygments_lexer": "ipython3",
   "version": "3.11.5"
  }
 },
 "nbformat": 4,
 "nbformat_minor": 2
}
